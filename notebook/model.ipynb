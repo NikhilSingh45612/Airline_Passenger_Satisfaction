{
 "cells": [
  {
   "cell_type": "code",
   "execution_count": 1,
   "id": "a7a7cdb4",
   "metadata": {},
   "outputs": [],
   "source": [
    "#loading data\n",
    "import pandas as pd\n",
    "data = pd.read_csv('model.csv')"
   ]
  },
  {
   "cell_type": "markdown",
   "id": "456a781b",
   "metadata": {},
   "source": [
    "# Splitting the data on training and test sets"
   ]
  },
  {
   "cell_type": "code",
   "execution_count": 2,
   "id": "272685dc",
   "metadata": {},
   "outputs": [],
   "source": [
    "# creating train test data sets\n",
    "from sklearn.model_selection import train_test_split\n",
    "x = data.drop('Satisfaction',axis=1)\n",
    "y = data['Satisfaction']\n",
    "x_train, x_test, y_train, y_test = train_test_split(x, y, test_size=0.2, random_state=2)"
   ]
  },
  {
   "cell_type": "markdown",
   "id": "e82a7342",
   "metadata": {},
   "source": [
    "# Applying Classification Models"
   ]
  },
  {
   "cell_type": "code",
   "execution_count": 3,
   "id": "d046e5e0",
   "metadata": {},
   "outputs": [
    {
     "data": {
      "text/plain": [
       "LogisticRegression()"
      ]
     },
     "execution_count": 3,
     "metadata": {},
     "output_type": "execute_result"
    }
   ],
   "source": [
    "#importing libs\n",
    "import pandas as pd\n",
    "from sklearn.model_selection import train_test_split\n",
    "import numpy as np\n",
    "import matplotlib.pyplot as plt\n",
    "from sklearn.linear_model import LogisticRegression\n",
    "from sklearn.metrics import mean_absolute_error\n",
    "from sklearn.ensemble import RandomForestRegressor\n",
    "import warnings\n",
    "warnings.filterwarnings(\"ignore\")\n",
    "%matplotlib inline\n",
    "# applying logistic regression\n",
    "lr = LogisticRegression()\n",
    "lr.fit(x_train,y_train)"
   ]
  },
  {
   "cell_type": "markdown",
   "id": "8c6e9f0b",
   "metadata": {},
   "source": [
    "# Logistic Regression"
   ]
  },
  {
   "cell_type": "code",
   "execution_count": 4,
   "id": "6e1a34af",
   "metadata": {},
   "outputs": [],
   "source": [
    "pred = lr.predict(x_test)"
   ]
  },
  {
   "cell_type": "code",
   "execution_count": 5,
   "id": "969176da",
   "metadata": {},
   "outputs": [],
   "source": [
    "from sklearn.metrics import accuracy_score"
   ]
  },
  {
   "cell_type": "code",
   "execution_count": 6,
   "id": "3a1461bf",
   "metadata": {},
   "outputs": [
    {
     "data": {
      "text/plain": [
       "0.702610101632276"
      ]
     },
     "execution_count": 6,
     "metadata": {},
     "output_type": "execute_result"
    }
   ],
   "source": [
    "accuracy_score(y_test,pred)"
   ]
  },
  {
   "cell_type": "code",
   "execution_count": 7,
   "id": "7ce55aec",
   "metadata": {},
   "outputs": [
    {
     "data": {
      "text/plain": [
       "0.29738989836772406"
      ]
     },
     "execution_count": 7,
     "metadata": {},
     "output_type": "execute_result"
    }
   ],
   "source": [
    "mean_absolute_error(y_test,pred)"
   ]
  },
  {
   "cell_type": "markdown",
   "id": "971e2052",
   "metadata": {},
   "source": [
    "# Random Forest"
   ]
  },
  {
   "cell_type": "code",
   "execution_count": 8,
   "id": "6c1fdb41",
   "metadata": {},
   "outputs": [
    {
     "data": {
      "text/plain": [
       "0.07168001231906375"
      ]
     },
     "execution_count": 8,
     "metadata": {},
     "output_type": "execute_result"
    }
   ],
   "source": [
    "#Random Forest\n",
    "\n",
    "rf = RandomForestRegressor()\n",
    "rf.fit(x_train,y_train)\n",
    "pred1 = rf.predict(x_test)\n",
    "mean_absolute_error(y_test,pred1)"
   ]
  },
  {
   "cell_type": "markdown",
   "id": "869ca01b",
   "metadata": {},
   "source": [
    "# DecisionTreeClassifier AND NaiveBayes"
   ]
  },
  {
   "cell_type": "code",
   "execution_count": 9,
   "id": "6f9132e3",
   "metadata": {},
   "outputs": [
    {
     "name": "stdout",
     "output_type": "stream",
     "text": [
      "Decision Tree :  0.9306090237141977\n",
      "Naive Bayes :  0.8015764551894056\n"
     ]
    }
   ],
   "source": [
    "#DecisionTreeClassifier AND NaiveBayes\n",
    "from sklearn.tree import DecisionTreeClassifier\n",
    "from sklearn.naive_bayes import GaussianNB\n",
    "from sklearn.neighbors import KNeighborsClassifier\n",
    "\n",
    "models = []\n",
    "models.append(('Decision Tree', DecisionTreeClassifier()))\n",
    "models.append(('Naive Bayes', GaussianNB()))\n",
    "\n",
    "from sklearn import model_selection\n",
    "for name, model in models:\n",
    "    nfold = model_selection.KFold(n_splits = 4, random_state = 0, shuffle = True)\n",
    "    score = model_selection.cross_val_score(model, x_train, y_train, cv = nfold, scoring = 'accuracy')\n",
    "    print(name, ': ',score.mean())"
   ]
  },
  {
   "cell_type": "code",
   "execution_count": null,
   "id": "406070fe",
   "metadata": {},
   "outputs": [],
   "source": []
  }
 ],
 "metadata": {
  "kernelspec": {
   "display_name": "Python 3 (ipykernel)",
   "language": "python",
   "name": "python3"
  },
  "language_info": {
   "codemirror_mode": {
    "name": "ipython",
    "version": 3
   },
   "file_extension": ".py",
   "mimetype": "text/x-python",
   "name": "python",
   "nbconvert_exporter": "python",
   "pygments_lexer": "ipython3",
   "version": "3.9.7"
  }
 },
 "nbformat": 4,
 "nbformat_minor": 5
}
